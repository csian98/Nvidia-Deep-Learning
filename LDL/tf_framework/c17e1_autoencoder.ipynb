{
 "cells": [
  {
   "cell_type": "code",
   "execution_count": null,
   "metadata": {},
   "outputs": [],
   "source": [
    "\"\"\"\n",
    "The MIT License (MIT)\n",
    "Copyright (c) 2021 NVIDIA\n",
    "Permission is hereby granted, free of charge, to any person obtaining a copy of\n",
    "this software and associated documentation files (the \"Software\"), to deal in\n",
    "the Software without restriction, including without limitation the rights to\n",
    "use, copy, modify, merge, publish, distribute, sublicense, and/or sell copies of\n",
    "the Software, and to permit persons to whom the Software is furnished to do so,\n",
    "subject to the following conditions:\n",
    "The above copyright notice and this permission notice shall be included in all\n",
    "copies or substantial portions of the Software.\n",
    "THE SOFTWARE IS PROVIDED \"AS IS\", WITHOUT WARRANTY OF ANY KIND, EXPRESS OR\n",
    "IMPLIED, INCLUDING BUT NOT LIMITED TO THE WARRANTIES OF MERCHANTABILITY, FITNESS\n",
    "FOR A PARTICULAR PURPOSE AND NONINFRINGEMENT. IN NO EVENT SHALL THE AUTHORS OR\n",
    "COPYRIGHT HOLDERS BE LIABLE FOR ANY CLAIM, DAMAGES OR OTHER LIABILITY, WHETHER\n",
    "IN AN ACTION OF CONTRACT, TORT OR OTHERWISE, ARISING FROM, OUT OF OR IN\n",
    "CONNECTION WITH THE SOFTWARE OR THE USE OR OTHER DEALINGS IN THE SOFTWARE.\n",
    "\"\"\"\n"
   ]
  },
  {
   "cell_type": "markdown",
   "metadata": {},
   "source": [
    "This code example demonstrates how an autoencoder can be used for outlier detection. We do this by first training an autoencoder on the Modified National Institute of Standards and Technology (MNIST) dataset. Then we observe how the error is higher when the network is presented with an image that does not represent a handwritten digit. More context for this code example can be found in the section \"Programming Example: Autoencoder for outlier detection\" in Chapter 17 in the book Learning Deep Learning by Magnus Ekman (ISBN: 9780137470358).\n"
   ]
  },
  {
   "cell_type": "markdown",
   "metadata": {},
   "source": [
    "We start with the usual set of import statements, followed by loading the MNIST dataset. Instead of standardizing the data to be centered around 0, we scale the data to be in the range 0 to 1. See the book for a discussion of why this is the case.\n"
   ]
  },
  {
   "cell_type": "code",
   "execution_count": null,
   "metadata": {},
   "outputs": [],
   "source": [
    "import tensorflow as tf\n",
    "from tensorflow import keras\n",
    "from tensorflow.keras.utils import to_categorical\n",
    "import numpy as np\n",
    "import matplotlib.pyplot as plt\n",
    "import logging\n",
    "tf.get_logger().setLevel(logging.ERROR)\n",
    "\n",
    "EPOCHS = 10\n",
    "\n",
    "# Load traditional MNIST dataset.\n",
    "mnist = keras.datasets.mnist\n",
    "(train_images, train_labels), (test_images,\n",
    "                               test_labels) = mnist.load_data()\n",
    "\n",
    "# Scale the data.\n",
    "train_images = train_images / 255.0\n",
    "test_images = test_images / 255.0\n"
   ]
  },
  {
   "cell_type": "markdown",
   "metadata": {},
   "source": [
    "The next step is to define and train the model. This is shown in the code snippet below. The encoder part of the model consists of a Flatten layer (changing the dimension from 28×28 to 784) followed by a single fully connected (Dense) layer with 64 units. The decoder consists of another fully connected layer with 784 units, followed by a Reshape layer that changes the dimension from 784 to 28×28. That is, the decoder performs the inverse of the operations done by the encoder. The goal for the autoencoder is to generate an output image that is identical to the input image, and it has to do that by fully encoding the 28×28 (784) image in the intermediate representation vector of size 64.\n"
   ]
  },
  {
   "cell_type": "code",
   "execution_count": null,
   "metadata": {},
   "outputs": [],
   "source": [
    "# Create and train autoencoder.\n",
    "model = keras.Sequential([\n",
    "    keras.layers.Flatten(input_shape=(28, 28)),\n",
    "    keras.layers.Dense(64, activation='relu',\n",
    "                       kernel_initializer='glorot_normal',\n",
    "                       bias_initializer='zeros'),\n",
    "    keras.layers.Dense(784, activation='sigmoid',\n",
    "                       kernel_initializer='glorot_normal',\n",
    "                       bias_initializer='zeros'),\n",
    "    keras.layers.Reshape((28, 28))])\n",
    "\n",
    "model.compile(loss='binary_crossentropy', optimizer = 'adam',\n",
    "              metrics =['mean_absolute_error'])\n",
    "\n",
    "history = model.fit(train_images, train_images,\n",
    "                    validation_data=(test_images, test_images),\n",
    "                    epochs=EPOCHS, batch_size=64, verbose=2,\n",
    "                    shuffle=True)\n"
   ]
  },
  {
   "cell_type": "markdown",
   "metadata": {},
   "source": [
    "Next, we use the trained model to try to reproduce the images in the test dataset. After applying the model to all test images, we plot one of the test images next to its corresponding version produced by the network.\n"
   ]
  },
  {
   "cell_type": "code",
   "execution_count": null,
   "metadata": {},
   "outputs": [],
   "source": [
    "# Predict on test dataset.\n",
    "predict_images = model.predict(test_images)\n",
    "\n",
    "# Plot one input example and resulting prediction.\n",
    "plt.subplot(1, 2, 1)\n",
    "plt.imshow(test_images[0], cmap=plt.get_cmap('gray'))\n",
    "plt.subplot(1, 2, 2)\n",
    "plt.imshow(predict_images[0], cmap=plt.get_cmap('gray'))\n",
    "plt.show()\n"
   ]
  },
  {
   "cell_type": "markdown",
   "metadata": {},
   "source": [
    "The next step is to apply our autoencoder to a different image. We use a different dataset known as Fashion MNIST. This dataset is designed to serve as a drop-in replacement for MNIST. It consists of the same number of training and test images, using the same 28×28 resolution. Just as for MNIST, each image belongs to one of ten classes. The difference compared to MNIST is that instead of depicting handwritten images, the images depict various pieces of clothing: dress, shirt, sneaker, and so on. The code snippet below loads this dataset and uses the trained model to try to reproduce the fashion MNIST test images."
   ]
  },
  {
   "cell_type": "code",
   "execution_count": null,
   "metadata": {},
   "outputs": [],
   "source": [
    "# Load Fashion MNIST.\n",
    "f_mnist = keras.datasets.fashion_mnist\n",
    "(f_train_images, f_train_labels), (f_test_images,\n",
    "                        f_test_labels) = f_mnist.load_data()\n",
    "\n",
    "f_train_images = f_train_images / 255.0\n",
    "f_test_images = f_test_images / 255.0\n",
    "\n",
    "# Predict and plot.\n",
    "f_predict_images = model.predict(f_test_images)\n",
    "plt.subplot(1, 2, 1)\n",
    "plt.imshow(f_test_images[0], cmap=plt.get_cmap('gray'))\n",
    "plt.subplot(1, 2, 2)\n",
    "plt.imshow(f_predict_images[0], cmap=plt.get_cmap('gray'))\n",
    "plt.show()\n"
   ]
  },
  {
   "cell_type": "markdown",
   "metadata": {},
   "source": [
    "The result should indicate that the autoencoder is not good at reproducing images that look vastly different from the MNIST images. To quantify this further, the code snippet below computes the mean absolute error for the autoencoder, both for all MNIST test examples and all Fashion MNIST test examples. We then plot the results. The resulting chart shows how the autoencoder can be used to identify images that look different than the ones in the training dataset.\n"
   ]
  },
  {
   "cell_type": "code",
   "execution_count": null,
   "metadata": {},
   "outputs": [],
   "source": [
    "# Compute errors and plot.\n",
    "error = np.mean(np.abs(test_images - predict_images), (1, 2))\n",
    "f_error = np.mean(np.abs(f_test_images - f_predict_images), (1, 2))\n",
    "_ = plt.hist((error, f_error), bins=50, label=['mnist',\n",
    "                                               'fashion mnist'])\n",
    "plt.legend()\n",
    "plt.xlabel('mean absolute error')\n",
    "plt.ylabel('examples')\n",
    "plt.title(\"Autoencoder for outlier detection\")\n",
    "plt.show()\n"
   ]
  },
  {
   "cell_type": "markdown",
   "metadata": {},
   "source": [
    "The chart indicates that there is some overlap between the two datasets in terms of resulting error. The code snippet below provides some insight into why this is the case by plotting the images with the highest error from the MNIST dataset. See the book for more details of the expected result.\n"
   ]
  },
  {
   "cell_type": "code",
   "execution_count": null,
   "metadata": {},
   "outputs": [],
   "source": [
    "# Print outliers in mnist data.\n",
    "index = error.argmax()\n",
    "plt.subplot(1, 2, 1)\n",
    "plt.imshow(test_images[index], cmap=plt.get_cmap('gray'))\n",
    "error[index] = 0\n",
    "index = error.argmax()\n",
    "plt.subplot(1, 2, 2)\n",
    "plt.imshow(test_images[index], cmap=plt.get_cmap('gray'))\n",
    "plt.show()\n"
   ]
  }
 ],
 "metadata": {
  "kernelspec": {
   "display_name": "Python 3",
   "language": "python",
   "name": "python3"
  },
  "language_info": {
   "codemirror_mode": {
    "name": "ipython",
    "version": 3
   },
   "file_extension": ".py",
   "mimetype": "text/x-python",
   "name": "python",
   "nbconvert_exporter": "python",
   "pygments_lexer": "ipython3",
   "version": "3.6.7"
  }
 },
 "nbformat": 4,
 "nbformat_minor": 2
}
